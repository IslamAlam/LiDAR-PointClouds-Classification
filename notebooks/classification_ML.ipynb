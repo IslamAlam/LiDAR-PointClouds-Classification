{
 "cells": [
  {
   "cell_type": "code",
   "execution_count": 4,
   "metadata": {},
   "outputs": [],
   "source": [
    "import os\n",
    "from glob import glob\n",
    "import numpy as np\n",
    "import matplotlib.pyplot as plt\n",
    "import pandas as pd\n",
    "from pyntcloud import PyntCloud\n",
    "from pyntcloud import scalar_fields\n",
    "from sklearn.ensemble import RandomForestClassifier\n",
    "from sklearn.metrics import accuracy_score\n",
    "from sklearn.ensemble import GradientBoostingClassifier\n",
    "from sklearn.neighbors.kde import KernelDensity\n",
    "from sklearn.neighbors.kde import KDTree\n",
    "from sklearn.metrics import confusion_matrix\n",
    "from sklearn.utils.multiclass import unique_labels\n",
    "import pickle\n",
    "\n",
    "#import pclpy\n",
    "# install this pip sudo apt install libgl1-mesa-glx\n",
    "import open3d as o3d\n",
    "\n",
    "import json\n",
    "import pdal\n",
    "import time"
   ]
  },
  {
   "cell_type": "code",
   "execution_count": 9,
   "metadata": {},
   "outputs": [],
   "source": [
    "import sys\n",
    "#Second append the folder path\n",
    "\n",
    "sys.path.insert(0, './../inc')\n",
    "sys.path.insert(0, './../src')\n",
    "\n",
    "from classfier_tools import plot_confusion_matrix, classic_classifier\n",
    "from pdal_pipline import las_add_features, las_2_dataframe, las_eigen_features"
   ]
  },
  {
   "cell_type": "code",
   "execution_count": 2,
   "metadata": {},
   "outputs": [
    {
     "data": {
      "text/plain": [
       "{'noise/other': 7,\n",
       " 'ground': 2,\n",
       " 'road': 11,\n",
       " 'vegetation': 3,\n",
       " 'building': 6,\n",
       " 'light': 19,\n",
       " 'signal': 20,\n",
       " 'vehicle': 21,\n",
       " 'fence/people': 22}"
      ]
     },
     "execution_count": 2,
     "metadata": {},
     "output_type": "execute_result"
    }
   ],
   "source": [
    "classe_labels = {\n",
    "    \"noise/other\"  : 7,\n",
    "    \"ground\"       : 2,\n",
    "    \"road\"         : 11,\n",
    "    \"vegetation\"   : 3,\n",
    "    \"building\"     : 6,\n",
    "    \"light\"        : 19,\n",
    "    \"signal\"       : 20,\n",
    "    \"vehicle\"      : 21,\n",
    "    \"fence/people\" : 22\n",
    "    }\n",
    "\n",
    "classe_labels"
   ]
  },
  {
   "cell_type": "code",
   "execution_count": 3,
   "metadata": {},
   "outputs": [
    {
     "name": "stdout",
     "output_type": "stream",
     "text": [
      "0 ../../../shared/data/Werk2_classified_part1.las\n",
      "1 ../../../shared/data/Werk2_classified_part2.las\n",
      "2 ../../../shared/data/Werk2_classified_part2/Werk2_classified_part2_5.las\n",
      "3 ../../../shared/data/Werk2_classified_part2/Werk2_classified_part2_2.las\n",
      "4 ../../../shared/data/Werk2_classified_part2/Werk2_classified_part2_9.las\n",
      "5 ../../../shared/data/Werk2_classified_part2/Werk2_classified_part2_7.las\n",
      "6 ../../../shared/data/Werk2_classified_part2/Werk2_classified_part2_3.las\n",
      "7 ../../../shared/data/Werk2_classified_part2/Werk2_classified_part2_4.las\n",
      "8 ../../../shared/data/Werk2_classified_part2/Werk2_classified_part2_6.las\n",
      "9 ../../../shared/data/Werk2_classified_part2/Werk2_classified_part2_1.las\n",
      "10 ../../../shared/data/raw/Werk2_part2.las\n",
      "11 ../../../shared/data/raw/Werk2_part1.las\n",
      "12 ../../../shared/data/raw/Werk2_part3.las\n",
      "13 ../../../shared/data/tiles/Werk2_classified_part2_535000_5278000.las\n",
      "14 ../../../shared/data/tiles/Werk2_classified_part2_535000_5279000.las\n",
      "15 ../../../shared/data/tiles/Werk2_classified_part2_534000_5279000.las\n",
      "16 ../../../shared/data/tiles/Werk2_classified_part2_534000_5278000.las\n",
      "17 ../../../shared/data/Werk2_classified_part1/Werk2_classified_part1_2.las\n",
      "18 ../../../shared/data/Werk2_classified_part1/Werk2_classified_part1_0.las\n",
      "19 ../../../shared/data/Werk2_classified_part1/Werk2_classified_part1_5.las\n",
      "20 ../../../shared/data/Werk2_classified_part1/Werk2_classified_part1_6.las\n",
      "21 ../../../shared/data/Werk2_classified_part1/Werk2_classified_part1_9.las\n",
      "22 ../../../shared/data/Werk2_classified_part1/Werk2_classified_part1_1.las\n",
      "23 ../../../shared/data/Werk2_classified_part1/Werk2_classified_part1_7.las\n",
      "24 ../../../shared/data/Werk2_classified_part1/Werk2_classified_part1_3.las\n",
      "25 ../../../shared/data/Werk2_classified_part1/Werk2_classified_part1_4.las\n"
     ]
    }
   ],
   "source": [
    "from pathlib import Path\n",
    "extension = '.bpf'\n",
    "files=[]\n",
    "PrjPath = Path('./../../../shared/data/')\n",
    "i = 0\n",
    "for entry in PrjPath.rglob(f'*{extension}'): # PrjPath.iterdir():\n",
    "    print(i, entry)\n",
    "    files.append(entry)\n",
    "    i+=1\n",
    "\n",
    "#print(files)\n",
    "#LIDAR_FILENAME = files[16].resolve()\n",
    "#print(LIDAR_FILENAME)\n",
    "\n",
    "extension = '.shp'\n",
    "shp_files=[]\n",
    "\n",
    "i = 0\n",
    "for entry in PrjPath.rglob(f'*{extension}'): # PrjPath.iterdir():\n",
    "    print(i, entry)\n",
    "    shp_files.append(entry)\n",
    "    i+=1\n",
    "    \n",
    "#print(files)\n",
    "#LIDAR_FILENAME = files[16].resolve()\n",
    "#print(LIDAR_FILENAME)\n",
    "\n",
    "extension = '.las'\n",
    "LAS_files=[]\n",
    "\n",
    "i = 0\n",
    "for entry in PrjPath.rglob(f'*{extension}'): # PrjPath.iterdir():\n",
    "    print(i, entry)\n",
    "    LAS_files.append(entry)\n",
    "    i+=1"
   ]
  },
  {
   "cell_type": "code",
   "execution_count": 10,
   "metadata": {},
   "outputs": [
    {
     "data": {
      "text/plain": [
       "'../../../shared/data/Werk2_classified_part2_eigen.las'"
      ]
     },
     "execution_count": 10,
     "metadata": {},
     "output_type": "execute_result"
    }
   ],
   "source": [
    "input_las_file = str(LAS_files[1])\n",
    "output_las_file = input_las_file[:-4] + \"_features\" + input_las_file[-4:]\n",
    "output_las_file"
   ]
  },
  {
   "cell_type": "code",
   "execution_count": null,
   "metadata": {},
   "outputs": [],
   "source": [
    "# las_eigen_features(input_las_file, output_las_file)"
   ]
  },
  {
   "cell_type": "code",
   "execution_count": null,
   "metadata": {},
   "outputs": [],
   "source": [
    "lidar_df = las_2_dataframe(output_las_file)\n",
    "lidar_df.head()"
   ]
  },
  {
   "cell_type": "code",
   "execution_count": null,
   "metadata": {},
   "outputs": [],
   "source": []
  },
  {
   "cell_type": "code",
   "execution_count": null,
   "metadata": {},
   "outputs": [],
   "source": [
    "classifier, y_test, y_predicted = classic_classifier(method, X, y)"
   ]
  }
 ],
 "metadata": {
  "kernelspec": {
   "display_name": "Python [conda env:pyntcloud]",
   "language": "python",
   "name": "conda-env-pyntcloud-py"
  },
  "language_info": {
   "codemirror_mode": {
    "name": "ipython",
    "version": 3
   },
   "file_extension": ".py",
   "mimetype": "text/x-python",
   "name": "python",
   "nbconvert_exporter": "python",
   "pygments_lexer": "ipython3",
   "version": "3.7.3"
  }
 },
 "nbformat": 4,
 "nbformat_minor": 2
}
